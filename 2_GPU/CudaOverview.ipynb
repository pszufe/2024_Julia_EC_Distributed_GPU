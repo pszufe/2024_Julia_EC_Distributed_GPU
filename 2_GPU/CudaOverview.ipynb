{
 "cells": [
  {
   "cell_type": "code",
   "execution_count": 67,
   "id": "d2aa78d0-26bc-4b85-93d1-ed6447d4ae39",
   "metadata": {},
   "outputs": [],
   "source": [
    "# Code below is mainly based on materials at https://cuda.juliagpu.org"
   ]
  },
  {
   "cell_type": "code",
   "execution_count": 1,
   "id": "23426e77-b3f0-4a09-ba30-417813ff3f05",
   "metadata": {
    "scrolled": true
   },
   "outputs": [
    {
     "data": {
      "text/plain": [
       "4"
      ]
     },
     "execution_count": 1,
     "metadata": {},
     "output_type": "execute_result"
    }
   ],
   "source": [
    "Threads.nthreads()"
   ]
  },
  {
   "cell_type": "code",
   "execution_count": 2,
   "id": "ee819d32-00ba-48fa-b014-9a54a6740f54",
   "metadata": {},
   "outputs": [
    {
     "data": {
      "text/plain": [
       "1048576-element Vector{Float32}:\n",
       " 3.0\n",
       " 3.0\n",
       " 3.0\n",
       " 3.0\n",
       " 3.0\n",
       " 3.0\n",
       " 3.0\n",
       " 3.0\n",
       " 3.0\n",
       " 3.0\n",
       " 3.0\n",
       " 3.0\n",
       " 3.0\n",
       " ⋮\n",
       " 3.0\n",
       " 3.0\n",
       " 3.0\n",
       " 3.0\n",
       " 3.0\n",
       " 3.0\n",
       " 3.0\n",
       " 3.0\n",
       " 3.0\n",
       " 3.0\n",
       " 3.0\n",
       " 3.0"
      ]
     },
     "execution_count": 2,
     "metadata": {},
     "output_type": "execute_result"
    }
   ],
   "source": [
    "N = 2^20\n",
    "x = fill(1.0f0, N)  # a vector filled with 1.0 (Float32)\n",
    "y = fill(2.0f0, N)  # a vector filled with 2.0\n",
    "\n",
    "y .+= x  "
   ]
  },
  {
   "cell_type": "code",
   "execution_count": 5,
   "id": "9ac89b3d-cee3-464f-8720-f4b11ac11e58",
   "metadata": {},
   "outputs": [
    {
     "data": {
      "text/plain": [
       "\u001b[32m\u001b[1mTest Passed\u001b[22m\u001b[39m"
      ]
     },
     "execution_count": 5,
     "metadata": {},
     "output_type": "execute_result"
    }
   ],
   "source": [
    "using Test\n",
    "function sequential_add!(y, x)\n",
    "    for i in eachindex(y, x)\n",
    "        @inbounds y[i] += x[i]\n",
    "    end\n",
    "    return nothing\n",
    "end\n",
    "\n",
    "fill!(y, 2)\n",
    "sequential_add!(y, x)\n",
    "@test all(y .== 3.0f0)"
   ]
  },
  {
   "cell_type": "code",
   "execution_count": 6,
   "id": "c8249fc7-fae5-409f-96f5-f3ed1afbe2b5",
   "metadata": {},
   "outputs": [
    {
     "data": {
      "text/plain": [
       "\u001b[32m\u001b[1mTest Passed\u001b[22m\u001b[39m"
      ]
     },
     "execution_count": 6,
     "metadata": {},
     "output_type": "execute_result"
    }
   ],
   "source": [
    "function parallel_add!(y, x)\n",
    "    Threads.@threads for i in eachindex(y, x)\n",
    "        @inbounds y[i] += x[i]\n",
    "    end\n",
    "    return nothing\n",
    "end\n",
    "\n",
    "fill!(y, 2)\n",
    "parallel_add!(y, x)\n",
    "@test all(y .== 3.0f0)"
   ]
  },
  {
   "cell_type": "code",
   "execution_count": 7,
   "id": "57c2829e-6ddd-4f2b-b547-4302a2233bcb",
   "metadata": {},
   "outputs": [
    {
     "name": "stdout",
     "output_type": "stream",
     "text": [
      "  336.091 μs (0 allocations: 0 bytes)\n"
     ]
    }
   ],
   "source": [
    "using BenchmarkTools\n",
    "@btime sequential_add!($y, $x)"
   ]
  },
  {
   "cell_type": "code",
   "execution_count": 8,
   "id": "ee066f5c-69b1-4a0d-a064-c1d908421333",
   "metadata": {},
   "outputs": [
    {
     "name": "stdout",
     "output_type": "stream",
     "text": [
      "  170.101 μs (21 allocations: 2.14 KiB)\n"
     ]
    }
   ],
   "source": [
    "@btime parallel_add!($y, $x)"
   ]
  },
  {
   "cell_type": "code",
   "execution_count": 10,
   "id": "e3e907be-92ce-4ad4-8d83-2935fd69f6d0",
   "metadata": {},
   "outputs": [],
   "source": [
    "using CUDA"
   ]
  },
  {
   "cell_type": "code",
   "execution_count": 13,
   "id": "57992d8f-bb5d-405f-85f8-6ff59e6fa688",
   "metadata": {},
   "outputs": [
    {
     "data": {
      "text/plain": [
       "3-element CuArray{Float32, 1, CUDA.Mem.DeviceBuffer}:\n",
       " 1.0\n",
       " 1.0\n",
       " 1.0"
      ]
     },
     "execution_count": 13,
     "metadata": {},
     "output_type": "execute_result"
    }
   ],
   "source": [
    "CuArray(x[1:3])"
   ]
  },
  {
   "cell_type": "code",
   "execution_count": 14,
   "id": "bf2c6651-e671-49bd-b16b-5b009d01a18b",
   "metadata": {},
   "outputs": [],
   "source": [
    "x_d = CUDA.fill(1.0f0, N)  # a vector stored on the GPU filled with 1.0 (Float32)\n",
    "y_d = CUDA.fill(2.0f0, N);  # a vector stored on the GPU filled with 2.0"
   ]
  },
  {
   "cell_type": "code",
   "execution_count": 15,
   "id": "b4b4c73f-8a39-4c37-9531-e050cdbf0045",
   "metadata": {},
   "outputs": [
    {
     "data": {
      "text/plain": [
       "\u001b[32m\u001b[1mTest Passed\u001b[22m\u001b[39m"
      ]
     },
     "execution_count": 15,
     "metadata": {},
     "output_type": "execute_result"
    }
   ],
   "source": [
    "y_d .+= x_d\n",
    "@test all(Array(y_d) .== 3.0f0)"
   ]
  },
  {
   "cell_type": "code",
   "execution_count": 16,
   "id": "d24353a2-cd71-4d17-aaa4-fc7fe518323a",
   "metadata": {},
   "outputs": [
    {
     "data": {
      "text/plain": [
       "add_broadcast! (generic function with 1 method)"
      ]
     },
     "execution_count": 16,
     "metadata": {},
     "output_type": "execute_result"
    }
   ],
   "source": [
    "function add_broadcast!(y, x)\n",
    "    CUDA.@sync y .+= x\n",
    "    return\n",
    "end"
   ]
  },
  {
   "cell_type": "code",
   "execution_count": 17,
   "id": "32760f97-71db-47c9-b94a-e98441d6cd75",
   "metadata": {},
   "outputs": [
    {
     "name": "stdout",
     "output_type": "stream",
     "text": [
      "  61.794 μs (56 allocations: 1.36 KiB)\n"
     ]
    }
   ],
   "source": [
    "@btime add_broadcast!($y_d, $x_d)"
   ]
  },
  {
   "cell_type": "code",
   "execution_count": 18,
   "id": "37ca9001-1d98-4d3a-b399-d2cc4b99d8fc",
   "metadata": {},
   "outputs": [
    {
     "data": {
      "text/plain": [
       "\u001b[32m\u001b[1mTest Passed\u001b[22m\u001b[39m"
      ]
     },
     "execution_count": 18,
     "metadata": {},
     "output_type": "execute_result"
    }
   ],
   "source": [
    "function gpu_add1!(y, x)\n",
    "    for i = 1:length(y)\n",
    "        @inbounds y[i] += x[i]\n",
    "    end\n",
    "    return nothing\n",
    "end\n",
    "\n",
    "fill!(y_d, 2)\n",
    "@cuda gpu_add1!(y_d, x_d)\n",
    "@test all(Array(y_d) .== 3.0f0)\n"
   ]
  },
  {
   "cell_type": "code",
   "execution_count": 19,
   "id": "8a6b4d2d-5ec6-42f7-b8cb-51b399b9b54c",
   "metadata": {},
   "outputs": [
    {
     "data": {
      "text/plain": [
       "bench_gpu1! (generic function with 1 method)"
      ]
     },
     "execution_count": 19,
     "metadata": {},
     "output_type": "execute_result"
    }
   ],
   "source": [
    "function bench_gpu1!(y, x)\n",
    "    CUDA.@sync begin\n",
    "        @cuda gpu_add1!(y, x)\n",
    "    end\n",
    "end"
   ]
  },
  {
   "cell_type": "code",
   "execution_count": 20,
   "id": "5a84a939-6252-4aa6-9811-82c6aa06c360",
   "metadata": {},
   "outputs": [
    {
     "name": "stdout",
     "output_type": "stream",
     "text": [
      "  53.822 ms (268 allocations: 4.45 KiB)\n"
     ]
    },
    {
     "data": {
      "text/plain": [
       "CUDA.HostKernel for gpu_add1!(CuDeviceVector{Float32, 1}, CuDeviceVector{Float32, 1})"
      ]
     },
     "execution_count": 20,
     "metadata": {},
     "output_type": "execute_result"
    }
   ],
   "source": [
    "@btime bench_gpu1!($y_d, $x_d)   # VERY VERY SLOW!"
   ]
  },
  {
   "cell_type": "code",
   "execution_count": 21,
   "id": "77223af8-7bae-4c41-a458-81bb8cdfb9ef",
   "metadata": {},
   "outputs": [
    {
     "data": {
      "text/plain": [
       "Profiler ran for 53.93 ms, capturing 520 events.\n",
       "\n",
       "Host-side activity: calling CUDA APIs took 53.28 ms (98.80% of the trace)\n",
       "┌──────────┬────────────┬───────┬─────────────────────┐\n",
       "│\u001b[1m Time (%) \u001b[0m│\u001b[1m Total time \u001b[0m│\u001b[1m Calls \u001b[0m│\u001b[1m Name                \u001b[0m│\n",
       "├──────────┼────────────┼───────┼─────────────────────┤\n",
       "│   98.79% │\u001b[31m   53.28 ms \u001b[0m│     1 │\u001b[1m cuStreamSynchronize \u001b[0m│\n",
       "│    0.10% │   51.26 µs │     1 │ cuLaunchKernel      │\n",
       "└──────────┴────────────┴───────┴─────────────────────┘\n",
       "\n",
       "Device-side activity: GPU was busy for 53.77 ms (99.70% of the trace)\n",
       "┌──────────┬────────────┬───────┬──────────────────────────────────────────────────────────────┐\n",
       "│\u001b[1m Time (%) \u001b[0m│\u001b[1m Total time \u001b[0m│\u001b[1m Calls \u001b[0m│\u001b[1m Name                                                         \u001b[0m│\n",
       "├──────────┼────────────┼───────┼──────────────────────────────────────────────────────────────┤\n",
       "│   99.70% │\u001b[31m   53.77 ms \u001b[0m│     1 │\u001b[1m _Z9gpu_add1_13CuDeviceArrayI7Float32Li1ELi1EES_IS0_Li1ELi1EE \u001b[0m│\n",
       "└──────────┴────────────┴───────┴──────────────────────────────────────────────────────────────┘\n"
      ]
     },
     "execution_count": 21,
     "metadata": {},
     "output_type": "execute_result"
    }
   ],
   "source": [
    "bench_gpu1!(y_d, x_d)  # run it once to force compilation if not precompiled\n",
    "CUDA.@profile bench_gpu1!(y_d, x_d)"
   ]
  },
  {
   "cell_type": "code",
   "execution_count": 22,
   "id": "4ca78c4f-3c81-4b17-8984-9b539ad0dcf4",
   "metadata": {},
   "outputs": [
    {
     "data": {
      "text/plain": [
       "Profiler ran for 53.92 ms, capturing 520 events.\n",
       "\n",
       "Host-side activity: calling CUDA APIs took 53.24 ms (98.74% of the trace)\n",
       "┌─────┬───────────┬──────────┬────────┬─────────────────────┐\n",
       "│\u001b[1m  ID \u001b[0m│\u001b[1m     Start \u001b[0m│\u001b[1m     Time \u001b[0m│\u001b[1m Thread \u001b[0m│\u001b[1m Name                \u001b[0m│\n",
       "├─────┼───────────┼──────────┼────────┼─────────────────────┤\n",
       "│   2 │  41.48 µs │ 33.62 µs │      1 │ cuLaunchKernel      │\n",
       "│ 518 │ 615.84 µs │\u001b[31m 53.24 ms \u001b[0m│      2 │\u001b[1m cuStreamSynchronize \u001b[0m│\n",
       "└─────┴───────────┴──────────┴────────┴─────────────────────┘\n",
       "\n",
       "Device-side activity: GPU was busy for 53.78 ms (99.73% of the trace)\n",
       "┌────┬──────────┬──────────┬─────────┬────────┬──────┬──────────────────────────────────────────────────────────────┐\n",
       "│\u001b[1m ID \u001b[0m│\u001b[1m    Start \u001b[0m│\u001b[1m     Time \u001b[0m│\u001b[1m Threads \u001b[0m│\u001b[1m Blocks \u001b[0m│\u001b[1m Regs \u001b[0m│\u001b[1m Name                                                         \u001b[0m│\n",
       "├────┼──────────┼──────────┼─────────┼────────┼──────┼──────────────────────────────────────────────────────────────┤\n",
       "│  2 │ 71.76 µs │\u001b[31m 53.78 ms \u001b[0m│       1 │      1 │   16 │\u001b[1m _Z9gpu_add1_13CuDeviceArrayI7Float32Li1ELi1EES_IS0_Li1ELi1EE \u001b[0m│\n",
       "└────┴──────────┴──────────┴─────────┴────────┴──────┴──────────────────────────────────────────────────────────────┘\n"
      ]
     },
     "execution_count": 22,
     "metadata": {},
     "output_type": "execute_result"
    }
   ],
   "source": [
    "CUDA.@profile trace=true bench_gpu1!(y_d, x_d)  # NOTE single block and single thread"
   ]
  },
  {
   "cell_type": "code",
   "execution_count": 23,
   "id": "59d73352-fb57-4f31-a67a-f3f5bc5c0c0e",
   "metadata": {},
   "outputs": [
    {
     "data": {
      "text/plain": [
       "\u001b[32m\u001b[1mTest Passed\u001b[22m\u001b[39m"
      ]
     },
     "execution_count": 23,
     "metadata": {},
     "output_type": "execute_result"
    }
   ],
   "source": [
    "function gpu_add2!(y, x)\n",
    "    index = threadIdx().x    # this example only requires linear indexing, so just use `x`, there are three dimensions available\n",
    "    stride = blockDim().x\n",
    "    for i = index:stride:length(y)\n",
    "        @inbounds y[i] += x[i]\n",
    "    end\n",
    "    return nothing\n",
    "end\n",
    "\n",
    "fill!(y_d, 2)\n",
    "@cuda threads=256 gpu_add2!(y_d, x_d)\n",
    "@test all(Array(y_d) .== 3.0f0)"
   ]
  },
  {
   "cell_type": "code",
   "execution_count": 27,
   "id": "9c91f24e-5c08-4619-817e-6e1f51d07e03",
   "metadata": {},
   "outputs": [
    {
     "data": {
      "text/plain": [
       "\u001b[32m\u001b[1mTest Passed\u001b[22m\u001b[39m"
      ]
     },
     "execution_count": 27,
     "metadata": {},
     "output_type": "execute_result"
    }
   ],
   "source": [
    "fill!(y_d, 2)\n",
    "@cuda threads=256 gpu_add2!(y_d, x_d)\n",
    "@test all(Array(y_d) .== 3.0f0)"
   ]
  },
  {
   "cell_type": "code",
   "execution_count": 36,
   "id": "c6999c94-ad82-4ef8-a970-0572bb45de05",
   "metadata": {},
   "outputs": [
    {
     "data": {
      "text/plain": [
       "bench_gpu2! (generic function with 1 method)"
      ]
     },
     "execution_count": 36,
     "metadata": {},
     "output_type": "execute_result"
    }
   ],
   "source": [
    "function bench_gpu2!(y, x)\n",
    "    CUDA.@sync begin\n",
    "        @cuda threads=256 gpu_add2!(y, x)\n",
    "    end\n",
    "end"
   ]
  },
  {
   "cell_type": "code",
   "execution_count": 37,
   "id": "f03661fb-d450-4c3b-b592-9c710ebb1d3b",
   "metadata": {},
   "outputs": [
    {
     "name": "stdout",
     "output_type": "stream",
     "text": [
      "  1.440 ms (268 allocations: 4.45 KiB)\n"
     ]
    },
    {
     "data": {
      "text/plain": [
       "CUDA.HostKernel for gpu_add2!(CuDeviceVector{Float32, 1}, CuDeviceVector{Float32, 1})"
      ]
     },
     "execution_count": 37,
     "metadata": {},
     "output_type": "execute_result"
    }
   ],
   "source": [
    "@btime bench_gpu2!($y_d, $x_d)"
   ]
  },
  {
   "cell_type": "code",
   "execution_count": 30,
   "id": "99a997f1-b93b-491f-aea8-23e63044992e",
   "metadata": {},
   "outputs": [
    {
     "data": {
      "text/plain": [
       "\u001b[32m\u001b[1mTest Passed\u001b[22m\u001b[39m"
      ]
     },
     "execution_count": 30,
     "metadata": {},
     "output_type": "execute_result"
    }
   ],
   "source": [
    "function gpu_add3!(y, x)\n",
    "    index = (blockIdx().x - 1) * blockDim().x + threadIdx().x\n",
    "    stride = gridDim().x * blockDim().x\n",
    "    for i = index:stride:length(y)\n",
    "        @inbounds y[i] += x[i]\n",
    "    end\n",
    "    return\n",
    "end\n",
    "\n",
    "numblocks = ceil(Int, N/256)\n",
    "\n",
    "fill!(y_d, 2)\n",
    "@cuda threads=256 blocks=numblocks gpu_add3!(y_d, x_d)\n",
    "@test all(Array(y_d) .== 3.0f0)"
   ]
  },
  {
   "cell_type": "code",
   "execution_count": 31,
   "id": "b9b2c563-f894-4603-8582-a6bf80c21152",
   "metadata": {},
   "outputs": [
    {
     "data": {
      "text/plain": [
       "bench_gpu3! (generic function with 1 method)"
      ]
     },
     "execution_count": 31,
     "metadata": {},
     "output_type": "execute_result"
    }
   ],
   "source": [
    "function bench_gpu3!(y, x)\n",
    "    numblocks = ceil(Int, length(y)/256)\n",
    "    CUDA.@sync begin\n",
    "        @cuda threads=256 blocks=numblocks gpu_add3!(y, x)\n",
    "    end\n",
    "end"
   ]
  },
  {
   "cell_type": "code",
   "execution_count": 32,
   "id": "7e43dbfe-44ef-4efa-a64f-942b1571c364",
   "metadata": {},
   "outputs": [
    {
     "name": "stdout",
     "output_type": "stream",
     "text": [
      "  58.871 μs (42 allocations: 944 bytes)\n"
     ]
    },
    {
     "data": {
      "text/plain": [
       "CUDA.HostKernel for gpu_add3!(CuDeviceVector{Float32, 1}, CuDeviceVector{Float32, 1})"
      ]
     },
     "execution_count": 32,
     "metadata": {},
     "output_type": "execute_result"
    }
   ],
   "source": [
    "@btime bench_gpu3!($y_d, $x_d)"
   ]
  },
  {
   "cell_type": "code",
   "execution_count": 33,
   "id": "52af3892-3dd6-4a18-b6fb-578ffcddf600",
   "metadata": {
    "scrolled": true
   },
   "outputs": [
    {
     "data": {
      "text/plain": [
       "Profiler ran for 674.25 µs, capturing 74 events.\n",
       "\n",
       "Host-side activity: calling CUDA APIs took 593.42 µs (88.01% of the trace)\n",
       "┌────┬───────────┬───────────┬─────────────────────┐\n",
       "│\u001b[1m ID \u001b[0m│\u001b[1m     Start \u001b[0m│\u001b[1m      Time \u001b[0m│\u001b[1m Name                \u001b[0m│\n",
       "├────┼───────────┼───────────┼─────────────────────┤\n",
       "│  2 │  38.86 µs │\u001b[31m 571.73 µs \u001b[0m│\u001b[1m cuLaunchKernel      \u001b[0m│\n",
       "│ 72 │ 666.86 µs │   1.67 µs │ cuStreamSynchronize │\n",
       "└────┴───────────┴───────────┴─────────────────────┘\n",
       "\n",
       "Device-side activity: GPU was busy for 44.82 µs (6.65% of the trace)\n",
       "┌────┬───────────┬──────────┬─────────┬────────┬──────┬──────────────────────────────────────────────────────────────┐\n",
       "│\u001b[1m ID \u001b[0m│\u001b[1m     Start \u001b[0m│\u001b[1m     Time \u001b[0m│\u001b[1m Threads \u001b[0m│\u001b[1m Blocks \u001b[0m│\u001b[1m Regs \u001b[0m│\u001b[1m Name                                                         \u001b[0m│\n",
       "├────┼───────────┼──────────┼─────────┼────────┼──────┼──────────────────────────────────────────────────────────────┤\n",
       "│  2 │ 605.58 µs │\u001b[31m 44.82 µs \u001b[0m│     256 │   4096 │   32 │\u001b[1m _Z9gpu_add3_13CuDeviceArrayI7Float32Li1ELi1EES_IS0_Li1ELi1EE \u001b[0m│\n",
       "└────┴───────────┴──────────┴─────────┴────────┴──────┴──────────────────────────────────────────────────────────────┘\n"
      ]
     },
     "execution_count": 33,
     "metadata": {},
     "output_type": "execute_result"
    }
   ],
   "source": [
    "CUDA.@profile trace=true bench_gpu3!(y_d, x_d)"
   ]
  },
  {
   "cell_type": "code",
   "execution_count": 40,
   "id": "e4210b4d-2a98-432c-8b9e-2b4ff367d48c",
   "metadata": {},
   "outputs": [
    {
     "data": {
      "text/plain": [
       "1024"
      ]
     },
     "execution_count": 40,
     "metadata": {},
     "output_type": "execute_result"
    }
   ],
   "source": [
    "kernel = @cuda launch=false gpu_add3!(y_d, x_d)\n",
    "config = launch_configuration(kernel.fun)\n",
    "threads = min(N, config.threads)\n",
    "blocks = cld(N, threads)"
   ]
  },
  {
   "cell_type": "code",
   "execution_count": 41,
   "id": "85165087-ed15-40b4-9365-45352d55b422",
   "metadata": {},
   "outputs": [
    {
     "data": {
      "text/plain": [
       "\u001b[32m\u001b[1mTest Passed\u001b[22m\u001b[39m"
      ]
     },
     "execution_count": 41,
     "metadata": {},
     "output_type": "execute_result"
    }
   ],
   "source": [
    "fill!(y_d, 2)\n",
    "kernel(y_d, x_d; threads, blocks)  # kernel is callable\n",
    "@test all(Array(y_d) .== 3.0f0)"
   ]
  },
  {
   "cell_type": "code",
   "execution_count": 42,
   "id": "5135df95-4b64-4da0-8c8b-04d48a1750d4",
   "metadata": {},
   "outputs": [
    {
     "data": {
      "text/plain": [
       "bench_gpu4! (generic function with 1 method)"
      ]
     },
     "execution_count": 42,
     "metadata": {},
     "output_type": "execute_result"
    }
   ],
   "source": [
    "function bench_gpu4!(y, x)\n",
    "    kernel = @cuda launch=false gpu_add3!(y, x)\n",
    "    config = launch_configuration(kernel.fun)\n",
    "    threads = min(length(y), config.threads)\n",
    "    blocks = cld(length(y), threads)\n",
    "\n",
    "    CUDA.@sync begin\n",
    "        kernel(y, x; threads, blocks)\n",
    "    end\n",
    "end\n"
   ]
  },
  {
   "cell_type": "code",
   "execution_count": 43,
   "id": "3e3cc737-9695-4feb-a88e-10082eef8206",
   "metadata": {},
   "outputs": [
    {
     "name": "stdout",
     "output_type": "stream",
     "text": [
      "  60.756 μs (50 allocations: 1.05 KiB)\n"
     ]
    }
   ],
   "source": [
    "@btime bench_gpu4!($y_d, $x_d)"
   ]
  },
  {
   "cell_type": "code",
   "execution_count": 44,
   "id": "1332b056-5861-47ed-8eba-da98bcec63a5",
   "metadata": {},
   "outputs": [
    {
     "name": "stdout",
     "output_type": "stream",
     "text": [
      "thread 1, block 16\n",
      "thread 2, block 16\n",
      "thread 3, block 16\n",
      "thread 4, block 16\n",
      "thread 5, block 16\n",
      "thread 6, block 16\n",
      "thread 7, block 16\n",
      "thread 8, block 16\n",
      "thread 9, block 16\n",
      "thread 10, block 16\n",
      "thread 11, block 16\n",
      "thread 12, block 16\n",
      "thread 13, block 16\n",
      "thread 14, block 16\n",
      "thread 15, block 16\n",
      "thread 16, block 16\n"
     ]
    }
   ],
   "source": [
    "# Debugging, no println in GPU...\n",
    "function gpu_add2_print!(y, x)\n",
    "    index = threadIdx().x    # this example only requires linear indexing, so just use `x`\n",
    "    stride = blockDim().x\n",
    "    @cuprintln(\"thread $index, block $stride\")\n",
    "    for i = index:stride:length(y)\n",
    "        @inbounds y[i] += x[i]\n",
    "    end\n",
    "    return nothing\n",
    "end\n",
    "\n",
    "@cuda threads=16 gpu_add2_print!(y_d, x_d)\n",
    "synchronize()"
   ]
  },
  {
   "cell_type": "code",
   "execution_count": 49,
   "id": "ceb9843f-d274-4ca0-a76d-b3876e7a418e",
   "metadata": {},
   "outputs": [
    {
     "data": {
      "text/plain": [
       "2-element Vector{Float64}:\n",
       " 20.0\n",
       " 30.0"
      ]
     },
     "execution_count": 49,
     "metadata": {},
     "output_type": "execute_result"
    }
   ],
   "source": [
    "using CUDA, Adapt\n",
    "\n",
    "struct Interpolate{A}\n",
    "    xs::A\n",
    "    ys::A\n",
    "end\n",
    "\n",
    "#Functor - a \"callable\" data structure.\n",
    "# Typically we have set of xs and ys and we want to interpolate many times\n",
    "function (itp::Interpolate)(x)\n",
    "    i = searchsortedfirst(itp.xs, x)\n",
    "    i = clamp(i, firstindex(itp.ys), lastindex(itp.ys))\n",
    "    @inbounds itp.ys[i]\n",
    "end\n",
    "\n",
    "# Another way to write the same function (this is however less convenient for vectorization):\n",
    "function interp2(itp::Interpolate, x)\n",
    "    i = searchsortedfirst(itp.xs, x)\n",
    "    i = clamp(i, firstindex(itp.ys), lastindex(itp.ys))\n",
    "    @inbounds itp.ys[i]\n",
    "end\n",
    "\n",
    "\n",
    "\n",
    "xs_cpu = [1.0, 2.0, 3.0]\n",
    "ys_cpu = [10.0,20.0,30.0]\n",
    "itp_cpu = Interpolate(xs_cpu, ys_cpu)\n",
    "pts_cpu = [1.1,2.3]\n",
    "\n",
    "result_cpu = itp_cpu.(pts_cpu) # calling the faunctor\n"
   ]
  },
  {
   "cell_type": "code",
   "execution_count": 57,
   "id": "cc4f3983-90bd-49d3-99db-3ea71887d90a",
   "metadata": {},
   "outputs": [
    {
     "data": {
      "text/plain": [
       "2-element Vector{Float64}:\n",
       " 20.0\n",
       " 30.0"
      ]
     },
     "execution_count": 57,
     "metadata": {},
     "output_type": "execute_result"
    }
   ],
   "source": [
    "[interp2(itp_cpu, u) for u in pts_cpu]\n",
    "interp2.(Ref(itp_cpu), pts_cpu) # not convenient vectorization compared to a functor\n"
   ]
  },
  {
   "cell_type": "code",
   "execution_count": 61,
   "id": "65b5cc7f-572e-4e89-8a23-eb69f99354ba",
   "metadata": {},
   "outputs": [
    {
     "name": "stdout",
     "output_type": "stream",
     "text": [
      "GPUCompiler.KernelError(PTX CompilerJob of MethodInstance for (::GPUArrays.var\"#34#36\")(::CUDA.CuKer\n"
     ]
    }
   ],
   "source": [
    "itp = Interpolate(CuArray(xs_cpu), CuArray(ys_cpu))\n",
    "pts = CuArray(pts_cpu);\n",
    "try \n",
    "  itp.(pts)\n",
    "catch e\n",
    "    println(string(e)[1:100])\n",
    "end"
   ]
  },
  {
   "cell_type": "code",
   "execution_count": 62,
   "id": "eba76def-f62f-4224-92f1-18ec197ba01f",
   "metadata": {},
   "outputs": [
    {
     "name": "stdout",
     "output_type": "stream",
     "text": [
      "GPUCompiler.KernelError(PTX CompilerJob of MethodInstance for (::GPUArrays.var\"#34#36\")(::CUDA.CuKer\n"
     ]
    }
   ],
   "source": [
    "try \n",
    "  interp2.(Ref(itp), pts)\n",
    "catch e\n",
    "    println(string(e)[1:100])\n",
    "end"
   ]
  },
  {
   "cell_type": "code",
   "execution_count": 63,
   "id": "20e4b193-7217-4267-a4e5-0634ad4482f7",
   "metadata": {},
   "outputs": [
    {
     "data": {
      "text/plain": [
       "false"
      ]
     },
     "execution_count": 63,
     "metadata": {},
     "output_type": "execute_result"
    }
   ],
   "source": [
    "isbitstype(typeof(itp))"
   ]
  },
  {
   "cell_type": "code",
   "execution_count": 64,
   "id": "252d2180-6664-4f13-9fa6-14fade9d73cf",
   "metadata": {},
   "outputs": [],
   "source": [
    "import Adapt\n",
    "function Adapt.adapt_structure(to, itp::Interpolate)\n",
    "    xs = Adapt.adapt_structure(to, itp.xs)\n",
    "    ys = Adapt.adapt_structure(to, itp.ys)\n",
    "    Interpolate(xs, ys)\n",
    "end\n"
   ]
  },
  {
   "cell_type": "code",
   "execution_count": 65,
   "id": "6b365f80-4188-490a-902e-aa29cdb19607",
   "metadata": {},
   "outputs": [
    {
     "data": {
      "text/plain": [
       "2-element CuArray{Float64, 1, CUDA.Mem.DeviceBuffer}:\n",
       " 20.0\n",
       " 30.0"
      ]
     },
     "execution_count": 65,
     "metadata": {},
     "output_type": "execute_result"
    }
   ],
   "source": [
    "result = itp.(pts)"
   ]
  },
  {
   "cell_type": "code",
   "execution_count": 66,
   "id": "fd40f3b8-680c-4786-a55d-26bd79e7d6b9",
   "metadata": {
    "scrolled": true
   },
   "outputs": [
    {
     "data": {
      "text/plain": [
       "2-element CuArray{Float64, 1, CUDA.Mem.DeviceBuffer}:\n",
       " 20.0\n",
       " 30.0"
      ]
     },
     "execution_count": 66,
     "metadata": {},
     "output_type": "execute_result"
    }
   ],
   "source": [
    "interp2.(Ref(itp), pts)"
   ]
  },
  {
   "cell_type": "code",
   "execution_count": null,
   "id": "feba2dcc-61fd-446c-8ee5-ee1332b9b703",
   "metadata": {},
   "outputs": [],
   "source": []
  }
 ],
 "metadata": {
  "kernelspec": {
   "display_name": "Julia 1.10.3",
   "language": "julia",
   "name": "julia-1.10"
  },
  "language_info": {
   "file_extension": ".jl",
   "mimetype": "application/julia",
   "name": "julia",
   "version": "1.10.3"
  }
 },
 "nbformat": 4,
 "nbformat_minor": 5
}
