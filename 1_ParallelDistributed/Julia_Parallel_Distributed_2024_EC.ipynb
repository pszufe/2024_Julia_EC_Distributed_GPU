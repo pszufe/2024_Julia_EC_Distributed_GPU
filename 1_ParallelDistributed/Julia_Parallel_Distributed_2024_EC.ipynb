{
 "cells": [
  {
   "cell_type": "markdown",
   "id": "e4e18dfa",
   "metadata": {},
   "source": [
    "# Scaling out numerical computing in Julia\n",
    "Przemysław Szufel\n",
    "\n",
    "\n",
    "\n",
    "\n",
    "<a class=\"anchor\" id=\"toc\"></a>\n",
    "## Table of content\n",
    "\n",
    "    \n",
    "1. [Parallelize via Single Instruction Multiple Data (SIMD)](#simd)\n",
    "2. [Green threading](#green)\n",
    "3. [Multithreading](#multithreading)\n",
    "4. [Multi-processing and distributed computing](#multiprocessing)"
   ]
  },
  {
   "cell_type": "markdown",
   "id": "73dedff3-ed99-4fc7-9c08-f707e54c284c",
   "metadata": {},
   "source": [
    "Before running Jupyter notebook set in Julia number of threads.\n",
    "This should be done *before* actually running the `notebook()` command.\n",
    "The number of threads can be also set up in Julia options in Visual Studio code (if this is used to run this notebook).\n",
    "```\n",
    "# run this code from Julia console just before starting Jupyter Notebook\n",
    "ENV[\"JULIA_NUM_THREADS\"]=4\n",
    "```"
   ]
  },
  {
   "cell_type": "code",
   "execution_count": 5,
   "id": "68b0836a",
   "metadata": {},
   "outputs": [
    {
     "name": "stdout",
     "output_type": "stream",
     "text": [
      "Number of threads that your Julia is run: ## 1\n"
     ]
    }
   ],
   "source": [
    "println(\"Number of threads that your Julia is run: ## $(Threads.nthreads())\")"
   ]
  },
  {
   "cell_type": "code",
   "execution_count": 6,
   "id": "1923f8dc-20bf-4b6e-8d04-631532bc8e9a",
   "metadata": {},
   "outputs": [
    {
     "name": "stdout",
     "output_type": "stream",
     "text": [
      "\u001b[32m\u001b[1mStatus\u001b[22m\u001b[39m `C:\\AAABIBLIOTEKA\\EuropeanCommission\\2024_Julica_EC_Distributed_GPU\\1_ParallelDistributed\\Project.toml`\n",
      "  \u001b[90m[1520ce14] \u001b[39mAbstractTrees v0.4.5\n",
      "  \u001b[90m[6e4b80f9] \u001b[39mBenchmarkTools v1.5.0\n",
      "  \u001b[90m[336ed68f] \u001b[39mCSV v0.10.14\n",
      "  \u001b[90m[34f1f09b] \u001b[39mClusterManagers v0.4.6\n",
      "  \u001b[90m[a93c6f00] \u001b[39mDataFrames v1.6.1\n",
      "  \u001b[90m[31c24e10] \u001b[39mDistributions v0.25.108\n",
      "  \u001b[90m[cd3eb016] \u001b[39mHTTP v1.10.8\n",
      "  \u001b[90m[0f8b85d8] \u001b[39mJSON3 v1.14.0\n",
      "  \u001b[90m[91a5bcdd] \u001b[39mPlots v1.40.4\n"
     ]
    }
   ],
   "source": [
    "]status"
   ]
  },
  {
   "cell_type": "code",
   "execution_count": 7,
   "id": "4aa1aaf0",
   "metadata": {},
   "outputs": [],
   "source": [
    "using BenchmarkTools, Distributed"
   ]
  },
  {
   "cell_type": "markdown",
   "id": "02a83007",
   "metadata": {},
   "source": [
    "<a class=\"anchor\" id=\"simd\"></a>\n",
    "### Parallelize via Single Instruction Multiple Data (SIMD)\n",
    "---- [Return to table of contents](#toc) ---\n",
    "\n"
   ]
  },
  {
   "cell_type": "code",
   "execution_count": 8,
   "id": "a6acee57",
   "metadata": {},
   "outputs": [
    {
     "data": {
      "text/plain": [
       "dot1 (generic function with 1 method)"
      ]
     },
     "execution_count": 8,
     "metadata": {},
     "output_type": "execute_result"
    }
   ],
   "source": [
    "function dot1(x, y)\n",
    "    s = 0.0\n",
    "    for i in 1:length(x)\n",
    "        @inbounds s += x[i]*y[i]\n",
    "    end\n",
    "    s\n",
    "end"
   ]
  },
  {
   "cell_type": "code",
   "execution_count": 9,
   "id": "869b35dc",
   "metadata": {},
   "outputs": [
    {
     "data": {
      "text/plain": [
       "dot2 (generic function with 1 method)"
      ]
     },
     "execution_count": 9,
     "metadata": {},
     "output_type": "execute_result"
    }
   ],
   "source": [
    "function dot2(x, y)\n",
    "    s = 0.0\n",
    "    @simd for i in 1:length(x)\n",
    "        @inbounds s += x[i]*y[i]\n",
    "    end\n",
    "    s\n",
    "end"
   ]
  },
  {
   "cell_type": "code",
   "execution_count": 10,
   "id": "693abf6e",
   "metadata": {},
   "outputs": [
    {
     "name": "stdout",
     "output_type": "stream",
     "text": [
      "  4.000 μs (0 allocations: 0 bytes)\n",
      "  764.912 ns (0 allocations: 0 bytes)\n"
     ]
    },
    {
     "data": {
      "text/plain": [
       "2.522111788782171e7"
      ]
     },
     "execution_count": 10,
     "metadata": {},
     "output_type": "execute_result"
    }
   ],
   "source": [
    "x = 100*rand(10000)\n",
    "y = 100*rand(10000);\n",
    "\n",
    "@btime dot1($x, $y)\n",
    "@btime dot2($x, $y)"
   ]
  },
  {
   "cell_type": "code",
   "execution_count": 11,
   "id": "fceca0fa",
   "metadata": {},
   "outputs": [
    {
     "data": {
      "text/plain": [
       "2.5221117887821734e7"
      ]
     },
     "execution_count": 11,
     "metadata": {},
     "output_type": "execute_result"
    }
   ],
   "source": [
    "res1 =  dot1(x, y)"
   ]
  },
  {
   "cell_type": "code",
   "execution_count": 12,
   "id": "5dc2f9c3",
   "metadata": {
    "scrolled": true
   },
   "outputs": [
    {
     "data": {
      "text/plain": [
       "2.522111788782171e7"
      ]
     },
     "execution_count": 12,
     "metadata": {},
     "output_type": "execute_result"
    }
   ],
   "source": [
    "res2 =  dot2(x, y)"
   ]
  },
  {
   "cell_type": "code",
   "execution_count": 13,
   "id": "c05b2210",
   "metadata": {},
   "outputs": [
    {
     "data": {
      "text/plain": [
       "false"
      ]
     },
     "execution_count": 13,
     "metadata": {},
     "output_type": "execute_result"
    }
   ],
   "source": [
    "res1 == res2"
   ]
  },
  {
   "cell_type": "code",
   "execution_count": 14,
   "id": "290606ff",
   "metadata": {},
   "outputs": [
    {
     "name": "stdout",
     "output_type": "stream",
     "text": [
      "res1 = 2.5221117887821734e7\n",
      "res2 = 2.522111788782171e7\n"
     ]
    },
    {
     "data": {
      "text/plain": [
       "2.522111788782171e7"
      ]
     },
     "execution_count": 14,
     "metadata": {},
     "output_type": "execute_result"
    }
   ],
   "source": [
    "@show res1 \n",
    "@show res2"
   ]
  },
  {
   "cell_type": "code",
   "execution_count": 15,
   "id": "bac33f20-f6f9-49a6-b0e4-d06c02893353",
   "metadata": {},
   "outputs": [
    {
     "data": {
      "text/plain": [
       "true"
      ]
     },
     "execution_count": 15,
     "metadata": {},
     "output_type": "execute_result"
    }
   ],
   "source": [
    "res1 ≈ res2"
   ]
  },
  {
   "cell_type": "markdown",
   "id": "b939e997",
   "metadata": {},
   "source": [
    "<a class=\"anchor\" id=\"green\"></a>\n",
    "### Green threading \n",
    "---- [Return to table of contents](#toc) ---\n"
   ]
  },
  {
   "cell_type": "code",
   "execution_count": 16,
   "id": "f7da7625",
   "metadata": {},
   "outputs": [
    {
     "name": "stdout",
     "output_type": "stream",
     "text": [
      "  2.004744 seconds (43 allocations: 1024 bytes)\n"
     ]
    }
   ],
   "source": [
    "@time sleep(2)"
   ]
  },
  {
   "cell_type": "code",
   "execution_count": 17,
   "id": "fe3275b2",
   "metadata": {
    "scrolled": true
   },
   "outputs": [
    {
     "name": "stdout",
     "output_type": "stream",
     "text": [
      "  0.005987 seconds (2.80 k allocations: 201.922 KiB, 99.07% compilation time)\n"
     ]
    },
    {
     "data": {
      "text/plain": [
       "Task (runnable) @0x000001d22f858010"
      ]
     },
     "execution_count": 17,
     "metadata": {},
     "output_type": "execute_result"
    }
   ],
   "source": [
    "@time t = @async sleep(4)"
   ]
  },
  {
   "cell_type": "code",
   "execution_count": 18,
   "id": "572b606b",
   "metadata": {},
   "outputs": [
    {
     "data": {
      "text/plain": [
       "dojob (generic function with 1 method)"
      ]
     },
     "execution_count": 18,
     "metadata": {},
     "output_type": "execute_result"
    }
   ],
   "source": [
    "function dojob(i)\n",
    "    fname = download(\"https://szufel.pl/pliki/plik.txt\")  # this could be external computations with I/O\n",
    "    i, fname\n",
    "end"
   ]
  },
  {
   "cell_type": "code",
   "execution_count": 19,
   "id": "6c96c8d7",
   "metadata": {},
   "outputs": [
    {
     "data": {
      "text/plain": [
       "8-element Vector{Tuple{Int64, String}}:\n",
       " #undef\n",
       " #undef\n",
       " #undef\n",
       " #undef\n",
       " #undef\n",
       " #undef\n",
       " #undef\n",
       " #undef"
      ]
     },
     "execution_count": 19,
     "metadata": {},
     "output_type": "execute_result"
    }
   ],
   "source": [
    "result = Vector{Tuple{Int,String}}(undef, 8)"
   ]
  },
  {
   "cell_type": "code",
   "execution_count": 20,
   "id": "e127dc06",
   "metadata": {},
   "outputs": [
    {
     "name": "stdout",
     "output_type": "stream",
     "text": [
      "  1.362254 seconds (17.80 k allocations: 1.242 MiB, 1.62% compilation time)\n"
     ]
    },
    {
     "data": {
      "text/plain": [
       "8-element Vector{Tuple{Int64, String}}:\n",
       " (1, \"C:\\\\Users\\\\pszuf\\\\AppData\\\\Local\\\\Temp\\\\jl_rklcXuDePe\")\n",
       " (2, \"C:\\\\Users\\\\pszuf\\\\AppData\\\\Local\\\\Temp\\\\jl_5cl0VaN0Lm\")\n",
       " (3, \"C:\\\\Users\\\\pszuf\\\\AppData\\\\Local\\\\Temp\\\\jl_HetezUnuvQ\")\n",
       " (4, \"C:\\\\Users\\\\pszuf\\\\AppData\\\\Local\\\\Temp\\\\jl_3yx63I3Wb2\")\n",
       " (5, \"C:\\\\Users\\\\pszuf\\\\AppData\\\\Local\\\\Temp\\\\jl_XSZA58rmVM\")\n",
       " (6, \"C:\\\\Users\\\\pszuf\\\\AppData\\\\Local\\\\Temp\\\\jl_varCpWfovs\")\n",
       " (7, \"C:\\\\Users\\\\pszuf\\\\AppData\\\\Local\\\\Temp\\\\jl_tWLcVcnwhG\")\n",
       " (8, \"C:\\\\Users\\\\pszuf\\\\AppData\\\\Local\\\\Temp\\\\jl_F4FaX29e5S\")"
      ]
     },
     "execution_count": 20,
     "metadata": {},
     "output_type": "execute_result"
    }
   ],
   "source": [
    "@time for i=1:8\n",
    "    result[i] = dojob(i)\n",
    "end\n",
    "result"
   ]
  },
  {
   "cell_type": "code",
   "execution_count": 21,
   "id": "3bf5cf64",
   "metadata": {
    "scrolled": true
   },
   "outputs": [
    {
     "name": "stdout",
     "output_type": "stream",
     "text": [
      "  0.000079 seconds (81 allocations: 7.055 KiB)\n"
     ]
    },
    {
     "data": {
      "text/plain": [
       "8-element Vector{Tuple{Int64, String}}:\n",
       " #undef\n",
       " #undef\n",
       " #undef\n",
       " #undef\n",
       " #undef\n",
       " #undef\n",
       " #undef\n",
       " #undef"
      ]
     },
     "execution_count": 21,
     "metadata": {},
     "output_type": "execute_result"
    }
   ],
   "source": [
    "result = Vector{Tuple{Int,String}}(undef, 8)\n",
    "@time for i=1:8\n",
    "   @async result[i] = dojob(i)\n",
    "end\n",
    "result"
   ]
  },
  {
   "cell_type": "code",
   "execution_count": 22,
   "id": "280228a5-684e-4784-95a3-63dd7488e3f9",
   "metadata": {},
   "outputs": [
    {
     "data": {
      "text/plain": [
       "8-element Vector{Tuple{Int64, String}}:\n",
       " #undef\n",
       " #undef\n",
       " #undef\n",
       " #undef\n",
       " #undef\n",
       " #undef\n",
       " #undef\n",
       " #undef"
      ]
     },
     "execution_count": 22,
     "metadata": {},
     "output_type": "execute_result"
    }
   ],
   "source": [
    "result\n"
   ]
  },
  {
   "cell_type": "code",
   "execution_count": 23,
   "id": "6bc95ae6",
   "metadata": {},
   "outputs": [
    {
     "name": "stdout",
     "output_type": "stream",
     "text": [
      "  3.099014 seconds (6.25 k allocations: 347.023 KiB, 0.56% compilation time)\n"
     ]
    },
    {
     "data": {
      "text/plain": [
       "8-element Vector{Tuple{Int64, String}}:\n",
       " (1, \"C:\\\\Users\\\\pszuf\\\\AppData\\\\Local\\\\Temp\\\\jl_fS7W3yTgN0\")\n",
       " (2, \"C:\\\\Users\\\\pszuf\\\\AppData\\\\Local\\\\Temp\\\\jl_JCNgZcLcX2\")\n",
       " (3, \"C:\\\\Users\\\\pszuf\\\\AppData\\\\Local\\\\Temp\\\\jl_7cPynilaNe\")\n",
       " (4, \"C:\\\\Users\\\\pszuf\\\\AppData\\\\Local\\\\Temp\\\\jl_tSpoDsxsdQ\")\n",
       " (5, \"C:\\\\Users\\\\pszuf\\\\AppData\\\\Local\\\\Temp\\\\jl_nyZubeDInm\")\n",
       " (6, \"C:\\\\Users\\\\pszuf\\\\AppData\\\\Local\\\\Temp\\\\jl_xO1EDgZi70\")\n",
       " (7, \"C:\\\\Users\\\\pszuf\\\\AppData\\\\Local\\\\Temp\\\\jl_zqFMzUnotC\")\n",
       " (8, \"C:\\\\Users\\\\pszuf\\\\AppData\\\\Local\\\\Temp\\\\jl_dOfcnmVolQ\")"
      ]
     },
     "execution_count": 23,
     "metadata": {},
     "output_type": "execute_result"
    }
   ],
   "source": [
    "result = Vector{Tuple{Int,String}}(undef, 8);\n",
    "@time @sync for i=1:8\n",
    "   @async result[i] = dojob(i)\n",
    "end\n",
    "result"
   ]
  },
  {
   "cell_type": "code",
   "execution_count": 24,
   "id": "54fc6bb1-0d72-4311-bb32-4729c0061fe6",
   "metadata": {},
   "outputs": [
    {
     "data": {
      "text/plain": [
       "8-element Vector{Tuple{Int64, String}}:\n",
       " (1, \"C:\\\\Users\\\\pszuf\\\\AppData\\\\Local\\\\Temp\\\\jl_FsV2F6RY1c\")\n",
       " (2, \"C:\\\\Users\\\\pszuf\\\\AppData\\\\Local\\\\Temp\\\\jl_POfmVgrWZO\")\n",
       " (3, \"C:\\\\Users\\\\pszuf\\\\AppData\\\\Local\\\\Temp\\\\jl_daZ2J0vUt2\")\n",
       " (4, \"C:\\\\Users\\\\pszuf\\\\AppData\\\\Local\\\\Temp\\\\jl_z2tQ54rkzA\")\n",
       " (5, \"C:\\\\Users\\\\pszuf\\\\AppData\\\\Local\\\\Temp\\\\jl_tozeJwXq5I\")\n",
       " (6, \"C:\\\\Users\\\\pszuf\\\\AppData\\\\Local\\\\Temp\\\\jl_BcdmJyJMZo\")\n",
       " (7, \"C:\\\\Users\\\\pszuf\\\\AppData\\\\Local\\\\Temp\\\\jl_t0rWbwhCPe\")\n",
       " (8, \"C:\\\\Users\\\\pszuf\\\\AppData\\\\Local\\\\Temp\\\\jl_RYf8L6fOpa\")"
      ]
     },
     "execution_count": 24,
     "metadata": {},
     "output_type": "execute_result"
    }
   ],
   "source": [
    "asyncmap(dojob, 1:8)"
   ]
  },
  {
   "cell_type": "code",
   "execution_count": 25,
   "id": "0ce5c730-3fa4-4d4f-b89f-7d28ff9989a6",
   "metadata": {},
   "outputs": [
    {
     "name": "stdout",
     "output_type": "stream",
     "text": [
      "search: \u001b[0m\u001b[1ma\u001b[22m\u001b[0m\u001b[1ms\u001b[22m\u001b[0m\u001b[1my\u001b[22m\u001b[0m\u001b[1mn\u001b[22m\u001b[0m\u001b[1mc\u001b[22m\u001b[0m\u001b[1mm\u001b[22m\u001b[0m\u001b[1ma\u001b[22m\u001b[0m\u001b[1mp\u001b[22m \u001b[0m\u001b[1ma\u001b[22m\u001b[0m\u001b[1ms\u001b[22m\u001b[0m\u001b[1my\u001b[22m\u001b[0m\u001b[1mn\u001b[22m\u001b[0m\u001b[1mc\u001b[22m\u001b[0m\u001b[1mm\u001b[22m\u001b[0m\u001b[1ma\u001b[22m\u001b[0m\u001b[1mp\u001b[22m!\n",
      "\n"
     ]
    },
    {
     "data": {
      "text/latex": [
       "\\begin{verbatim}\n",
       "asyncmap(f, c...; ntasks=0, batch_size=nothing)\n",
       "\\end{verbatim}\n",
       "Uses multiple concurrent tasks to map \\texttt{f} over a collection (or multiple equal length collections). For multiple collection arguments, \\texttt{f} is applied elementwise.\n",
       "\n",
       "\\texttt{ntasks} specifies the number of tasks to run concurrently. Depending on the length of the collections, if \\texttt{ntasks} is unspecified, up to 100 tasks will be used for concurrent mapping.\n",
       "\n",
       "\\texttt{ntasks} can also be specified as a zero-arg function. In this case, the number of tasks to run in parallel is checked before processing every element and a new task started if the value of \\texttt{ntasks\\_func} is greater than the current number of tasks.\n",
       "\n",
       "If \\texttt{batch\\_size} is specified, the collection is processed in batch mode. \\texttt{f} must then be a function that must accept a \\texttt{Vector} of argument tuples and must return a vector of results. The input vector will have a length of \\texttt{batch\\_size} or less.\n",
       "\n",
       "The following examples highlight execution in different tasks by returning the \\texttt{objectid} of the tasks in which the mapping function is executed.\n",
       "\n",
       "First, with \\texttt{ntasks} undefined, each element is processed in a different task.\n",
       "\n",
       "\\begin{verbatim}\n",
       "julia> tskoid() = objectid(current_task());\n",
       "\n",
       "julia> asyncmap(x->tskoid(), 1:5)\n",
       "5-element Array{UInt64,1}:\n",
       " 0x6e15e66c75c75853\n",
       " 0x440f8819a1baa682\n",
       " 0x9fb3eeadd0c83985\n",
       " 0xebd3e35fe90d4050\n",
       " 0x29efc93edce2b961\n",
       "\n",
       "julia> length(unique(asyncmap(x->tskoid(), 1:5)))\n",
       "5\n",
       "\\end{verbatim}\n",
       "With \\texttt{ntasks=2} all elements are processed in 2 tasks.\n",
       "\n",
       "\\begin{verbatim}\n",
       "julia> asyncmap(x->tskoid(), 1:5; ntasks=2)\n",
       "5-element Array{UInt64,1}:\n",
       " 0x027ab1680df7ae94\n",
       " 0xa23d2f80cd7cf157\n",
       " 0x027ab1680df7ae94\n",
       " 0xa23d2f80cd7cf157\n",
       " 0x027ab1680df7ae94\n",
       "\n",
       "julia> length(unique(asyncmap(x->tskoid(), 1:5; ntasks=2)))\n",
       "2\n",
       "\\end{verbatim}\n",
       "With \\texttt{batch\\_size} defined, the mapping function needs to be changed to accept an array of argument tuples and return an array of results. \\texttt{map} is used in the modified mapping function to achieve this.\n",
       "\n",
       "\\begin{verbatim}\n",
       "julia> batch_func(input) = map(x->string(\"args_tuple: \", x, \", element_val: \", x[1], \", task: \", tskoid()), input)\n",
       "batch_func (generic function with 1 method)\n",
       "\n",
       "julia> asyncmap(batch_func, 1:5; ntasks=2, batch_size=2)\n",
       "5-element Array{String,1}:\n",
       " \"args_tuple: (1,), element_val: 1, task: 9118321258196414413\"\n",
       " \"args_tuple: (2,), element_val: 2, task: 4904288162898683522\"\n",
       " \"args_tuple: (3,), element_val: 3, task: 9118321258196414413\"\n",
       " \"args_tuple: (4,), element_val: 4, task: 4904288162898683522\"\n",
       " \"args_tuple: (5,), element_val: 5, task: 9118321258196414413\"\n",
       "\\end{verbatim}\n"
      ],
      "text/markdown": [
       "```\n",
       "asyncmap(f, c...; ntasks=0, batch_size=nothing)\n",
       "```\n",
       "\n",
       "Uses multiple concurrent tasks to map `f` over a collection (or multiple equal length collections). For multiple collection arguments, `f` is applied elementwise.\n",
       "\n",
       "`ntasks` specifies the number of tasks to run concurrently. Depending on the length of the collections, if `ntasks` is unspecified, up to 100 tasks will be used for concurrent mapping.\n",
       "\n",
       "`ntasks` can also be specified as a zero-arg function. In this case, the number of tasks to run in parallel is checked before processing every element and a new task started if the value of `ntasks_func` is greater than the current number of tasks.\n",
       "\n",
       "If `batch_size` is specified, the collection is processed in batch mode. `f` must then be a function that must accept a `Vector` of argument tuples and must return a vector of results. The input vector will have a length of `batch_size` or less.\n",
       "\n",
       "The following examples highlight execution in different tasks by returning the `objectid` of the tasks in which the mapping function is executed.\n",
       "\n",
       "First, with `ntasks` undefined, each element is processed in a different task.\n",
       "\n",
       "```\n",
       "julia> tskoid() = objectid(current_task());\n",
       "\n",
       "julia> asyncmap(x->tskoid(), 1:5)\n",
       "5-element Array{UInt64,1}:\n",
       " 0x6e15e66c75c75853\n",
       " 0x440f8819a1baa682\n",
       " 0x9fb3eeadd0c83985\n",
       " 0xebd3e35fe90d4050\n",
       " 0x29efc93edce2b961\n",
       "\n",
       "julia> length(unique(asyncmap(x->tskoid(), 1:5)))\n",
       "5\n",
       "```\n",
       "\n",
       "With `ntasks=2` all elements are processed in 2 tasks.\n",
       "\n",
       "```\n",
       "julia> asyncmap(x->tskoid(), 1:5; ntasks=2)\n",
       "5-element Array{UInt64,1}:\n",
       " 0x027ab1680df7ae94\n",
       " 0xa23d2f80cd7cf157\n",
       " 0x027ab1680df7ae94\n",
       " 0xa23d2f80cd7cf157\n",
       " 0x027ab1680df7ae94\n",
       "\n",
       "julia> length(unique(asyncmap(x->tskoid(), 1:5; ntasks=2)))\n",
       "2\n",
       "```\n",
       "\n",
       "With `batch_size` defined, the mapping function needs to be changed to accept an array of argument tuples and return an array of results. `map` is used in the modified mapping function to achieve this.\n",
       "\n",
       "```\n",
       "julia> batch_func(input) = map(x->string(\"args_tuple: \", x, \", element_val: \", x[1], \", task: \", tskoid()), input)\n",
       "batch_func (generic function with 1 method)\n",
       "\n",
       "julia> asyncmap(batch_func, 1:5; ntasks=2, batch_size=2)\n",
       "5-element Array{String,1}:\n",
       " \"args_tuple: (1,), element_val: 1, task: 9118321258196414413\"\n",
       " \"args_tuple: (2,), element_val: 2, task: 4904288162898683522\"\n",
       " \"args_tuple: (3,), element_val: 3, task: 9118321258196414413\"\n",
       " \"args_tuple: (4,), element_val: 4, task: 4904288162898683522\"\n",
       " \"args_tuple: (5,), element_val: 5, task: 9118321258196414413\"\n",
       "```\n"
      ],
      "text/plain": [
       "\u001b[36m  asyncmap(f, c...; ntasks=0, batch_size=nothing)\u001b[39m\n",
       "\n",
       "  Uses multiple concurrent tasks to map \u001b[36mf\u001b[39m over a collection (or multiple equal\n",
       "  length collections). For multiple collection arguments, \u001b[36mf\u001b[39m is applied\n",
       "  elementwise.\n",
       "\n",
       "  \u001b[36mntasks\u001b[39m specifies the number of tasks to run concurrently. Depending on the\n",
       "  length of the collections, if \u001b[36mntasks\u001b[39m is unspecified, up to 100 tasks will be\n",
       "  used for concurrent mapping.\n",
       "\n",
       "  \u001b[36mntasks\u001b[39m can also be specified as a zero-arg function. In this case, the\n",
       "  number of tasks to run in parallel is checked before processing every\n",
       "  element and a new task started if the value of \u001b[36mntasks_func\u001b[39m is greater than\n",
       "  the current number of tasks.\n",
       "\n",
       "  If \u001b[36mbatch_size\u001b[39m is specified, the collection is processed in batch mode. \u001b[36mf\u001b[39m\n",
       "  must then be a function that must accept a \u001b[36mVector\u001b[39m of argument tuples and\n",
       "  must return a vector of results. The input vector will have a length of\n",
       "  \u001b[36mbatch_size\u001b[39m or less.\n",
       "\n",
       "  The following examples highlight execution in different tasks by returning\n",
       "  the \u001b[36mobjectid\u001b[39m of the tasks in which the mapping function is executed.\n",
       "\n",
       "  First, with \u001b[36mntasks\u001b[39m undefined, each element is processed in a different task.\n",
       "\n",
       "\u001b[36m  julia> tskoid() = objectid(current_task());\u001b[39m\n",
       "\u001b[36m  \u001b[39m\n",
       "\u001b[36m  julia> asyncmap(x->tskoid(), 1:5)\u001b[39m\n",
       "\u001b[36m  5-element Array{UInt64,1}:\u001b[39m\n",
       "\u001b[36m   0x6e15e66c75c75853\u001b[39m\n",
       "\u001b[36m   0x440f8819a1baa682\u001b[39m\n",
       "\u001b[36m   0x9fb3eeadd0c83985\u001b[39m\n",
       "\u001b[36m   0xebd3e35fe90d4050\u001b[39m\n",
       "\u001b[36m   0x29efc93edce2b961\u001b[39m\n",
       "\u001b[36m  \u001b[39m\n",
       "\u001b[36m  julia> length(unique(asyncmap(x->tskoid(), 1:5)))\u001b[39m\n",
       "\u001b[36m  5\u001b[39m\n",
       "\n",
       "  With \u001b[36mntasks=2\u001b[39m all elements are processed in 2 tasks.\n",
       "\n",
       "\u001b[36m  julia> asyncmap(x->tskoid(), 1:5; ntasks=2)\u001b[39m\n",
       "\u001b[36m  5-element Array{UInt64,1}:\u001b[39m\n",
       "\u001b[36m   0x027ab1680df7ae94\u001b[39m\n",
       "\u001b[36m   0xa23d2f80cd7cf157\u001b[39m\n",
       "\u001b[36m   0x027ab1680df7ae94\u001b[39m\n",
       "\u001b[36m   0xa23d2f80cd7cf157\u001b[39m\n",
       "\u001b[36m   0x027ab1680df7ae94\u001b[39m\n",
       "\u001b[36m  \u001b[39m\n",
       "\u001b[36m  julia> length(unique(asyncmap(x->tskoid(), 1:5; ntasks=2)))\u001b[39m\n",
       "\u001b[36m  2\u001b[39m\n",
       "\n",
       "  With \u001b[36mbatch_size\u001b[39m defined, the mapping function needs to be changed to accept\n",
       "  an array of argument tuples and return an array of results. \u001b[36mmap\u001b[39m is used in\n",
       "  the modified mapping function to achieve this.\n",
       "\n",
       "\u001b[36m  julia> batch_func(input) = map(x->string(\"args_tuple: \", x, \", element_val: \", x[1], \", task: \", tskoid()), input)\u001b[39m\n",
       "\u001b[36m  batch_func (generic function with 1 method)\u001b[39m\n",
       "\u001b[36m  \u001b[39m\n",
       "\u001b[36m  julia> asyncmap(batch_func, 1:5; ntasks=2, batch_size=2)\u001b[39m\n",
       "\u001b[36m  5-element Array{String,1}:\u001b[39m\n",
       "\u001b[36m   \"args_tuple: (1,), element_val: 1, task: 9118321258196414413\"\u001b[39m\n",
       "\u001b[36m   \"args_tuple: (2,), element_val: 2, task: 4904288162898683522\"\u001b[39m\n",
       "\u001b[36m   \"args_tuple: (3,), element_val: 3, task: 9118321258196414413\"\u001b[39m\n",
       "\u001b[36m   \"args_tuple: (4,), element_val: 4, task: 4904288162898683522\"\u001b[39m\n",
       "\u001b[36m   \"args_tuple: (5,), element_val: 5, task: 9118321258196414413\"\u001b[39m"
      ]
     },
     "execution_count": 25,
     "metadata": {},
     "output_type": "execute_result"
    }
   ],
   "source": [
    "?asyncmap"
   ]
  },
  {
   "cell_type": "markdown",
   "id": "b57767fa",
   "metadata": {},
   "source": [
    "#### Programming a simple web server\n",
    "You should be able to connect using the address <a href=\"http://localhost:9992/3+4\" target=\"about:blank\">http://localhost:9992/3+4</a>\n",
    "\n",
    "To stop web server click <a href=\"http://localhost:9992/stopme\" target=\"about:blank\">http://localhost:9992/stopme</a>"
   ]
  },
  {
   "cell_type": "code",
   "execution_count": 26,
   "id": "c6641220",
   "metadata": {},
   "outputs": [
    {
     "name": "stdout",
     "output_type": "stream",
     "text": [
      "Starting the web server...\n"
     ]
    },
    {
     "data": {
      "text/plain": [
       "Sockets.TCPServer(Base.Libc.WindowsRawSocket(0x0000000000000970) active)"
      ]
     },
     "execution_count": 26,
     "metadata": {},
     "output_type": "execute_result"
    }
   ],
   "source": [
    "using Sockets\n",
    "println(\"Starting the web server...\")\n",
    "server = Sockets.listen(9992)"
   ]
  },
  {
   "cell_type": "code",
   "execution_count": 27,
   "id": "70a28d67",
   "metadata": {},
   "outputs": [
    {
     "data": {
      "text/plain": [
       "Task (runnable) @0x000001d269567270"
      ]
     },
     "execution_count": 27,
     "metadata": {},
     "output_type": "execute_result"
    }
   ],
   "source": [
    "@async begin\n",
    "    contt = Ref(true)\n",
    "    while contt[]\n",
    "        sock = Sockets.accept(server)\n",
    "        @async begin\n",
    "            data = readline(sock)\n",
    "            print(\"Got request:\\n\", data, \"\\n\")\n",
    "            cmd = split(data, \" \")[2][2:end]\n",
    "            println(sock, \"\\nHTTP/1.1 200 OK\\nContent-Type: text/html\\n\")\n",
    "            contt[] = contt[] && (!occursin(\"stopme\", data))\n",
    "            if contt[]\n",
    "                 println(sock, string(\"<html><body>\", cmd, \"=\", \n",
    "                     eval(Meta.parse(cmd)), \"</body></html>\"))\n",
    "            else\n",
    "                println(sock,\"<html><body>stopping</body></html>\")\n",
    "            end\n",
    "            close(sock)\n",
    "        end\n",
    "    end\n",
    "    println(\"Handling requests stopped\")\n",
    "end"
   ]
  },
  {
   "cell_type": "markdown",
   "id": "e0561254",
   "metadata": {},
   "source": [
    "<a class=\"anchor\" id=\"multithreading\"></a>\n",
    "### Multithreading\n",
    "---- [Return to table of contents](#toc) ---\n"
   ]
  },
  {
   "cell_type": "code",
   "execution_count": 1,
   "id": "a2e3cdd9",
   "metadata": {},
   "outputs": [
    {
     "data": {
      "text/plain": [
       "8"
      ]
     },
     "execution_count": 1,
     "metadata": {},
     "output_type": "execute_result"
    }
   ],
   "source": [
    "Threads.nthreads()"
   ]
  },
  {
   "cell_type": "code",
   "execution_count": 2,
   "id": "61e1d1d1",
   "metadata": {},
   "outputs": [
    {
     "data": {
      "text/plain": [
       "ssum (generic function with 1 method)"
      ]
     },
     "execution_count": 2,
     "metadata": {},
     "output_type": "execute_result"
    }
   ],
   "source": [
    "function ssum(x)\n",
    "    r, c = size(x)\n",
    "    y = zeros(c)\n",
    "    for i in 1:c\n",
    "        for j in 1:r\n",
    "            @inbounds y[i] += x[j, i]\n",
    "        end\n",
    "    end\n",
    "    y\n",
    "end"
   ]
  },
  {
   "cell_type": "code",
   "execution_count": 3,
   "id": "e2a4a2e8",
   "metadata": {},
   "outputs": [
    {
     "data": {
      "text/plain": [
       "tsum (generic function with 1 method)"
      ]
     },
     "execution_count": 3,
     "metadata": {},
     "output_type": "execute_result"
    }
   ],
   "source": [
    "function tsum(x)\n",
    "    r, c = size(x)\n",
    "    y = zeros(c)\n",
    "    Threads.@threads for i in 1:c\n",
    "        for j in 1:r\n",
    "            @inbounds y[i] += x[j, i]\n",
    "        end\n",
    "    end\n",
    "    y\n",
    "end\n"
   ]
  },
  {
   "cell_type": "code",
   "execution_count": 31,
   "id": "2e4ebef5",
   "metadata": {},
   "outputs": [],
   "source": [
    "x = rand(1000,10000);"
   ]
  },
  {
   "cell_type": "code",
   "execution_count": 32,
   "id": "55526866",
   "metadata": {},
   "outputs": [
    {
     "name": "stdout",
     "output_type": "stream",
     "text": [
      "  0.012313 seconds (7.23 k allocations: 575.148 KiB, 55.73% compilation time)\n",
      "  0.007010 seconds (2 allocations: 78.172 KiB)\n"
     ]
    }
   ],
   "source": [
    "@time ssum(x)\n",
    "@time ssum(x);"
   ]
  },
  {
   "cell_type": "code",
   "execution_count": 33,
   "id": "eed39ed8",
   "metadata": {},
   "outputs": [
    {
     "name": "stdout",
     "output_type": "stream",
     "text": [
      "  0.055239 seconds (41.80 k allocations: 2.940 MiB, 90.32% compilation time)\n",
      "  0.005430 seconds (10 allocations: 79.078 KiB)\n"
     ]
    }
   ],
   "source": [
    "@time tsum(x)\n",
    "@time tsum(x);"
   ]
  },
  {
   "cell_type": "markdown",
   "id": "52d9f2a7",
   "metadata": {},
   "source": [
    "#### Locking mechanism for threads"
   ]
  },
  {
   "cell_type": "code",
   "execution_count": 4,
   "id": "5894cc29",
   "metadata": {},
   "outputs": [
    {
     "data": {
      "text/plain": [
       "f_bad (generic function with 1 method)"
      ]
     },
     "execution_count": 4,
     "metadata": {},
     "output_type": "execute_result"
    }
   ],
   "source": [
    "function f_bad()\n",
    "    x = 0\n",
    "    Threads.@threads for i in 1:10^6\n",
    "        x += 1\n",
    "    end\n",
    "    return x\n",
    "end\n"
   ]
  },
  {
   "cell_type": "code",
   "execution_count": 5,
   "id": "a5ed2555",
   "metadata": {},
   "outputs": [
    {
     "data": {
      "text/plain": [
       "183975"
      ]
     },
     "execution_count": 5,
     "metadata": {},
     "output_type": "execute_result"
    }
   ],
   "source": [
    "f_bad()"
   ]
  },
  {
   "cell_type": "code",
   "execution_count": 8,
   "id": "de164cd7",
   "metadata": {},
   "outputs": [
    {
     "name": "stdout",
     "output_type": "stream",
     "text": [
      "  5.700 ns (0 allocations: 0 bytes)\n"
     ]
    },
    {
     "data": {
      "text/plain": [
       "1000000"
      ]
     },
     "execution_count": 8,
     "metadata": {},
     "output_type": "execute_result"
    }
   ],
   "source": [
    "using BenchmarkTools\n",
    "function f_add()\n",
    "    x = 0 \n",
    "    for i in 1:10^6\n",
    "        x += 1\n",
    "    end\n",
    "    x\n",
    "end\n",
    "@btime f_add() "
   ]
  },
  {
   "cell_type": "code",
   "execution_count": 9,
   "id": "eeb97516",
   "metadata": {
    "scrolled": true
   },
   "outputs": [
    {
     "data": {
      "text/plain": [
       "1000000"
      ]
     },
     "execution_count": 9,
     "metadata": {},
     "output_type": "execute_result"
    }
   ],
   "source": [
    "function f_atomic()\n",
    "    x = Threads.Atomic{Int}(0)\n",
    "    Threads.@threads for i in 1:10^6\n",
    "        Threads.atomic_add!(x, 1)\n",
    "    end\n",
    "    return x[]\n",
    "end\n",
    "f_atomic()"
   ]
  },
  {
   "cell_type": "code",
   "execution_count": 10,
   "id": "59801888-ffc4-406b-ad5e-4622372683cc",
   "metadata": {},
   "outputs": [
    {
     "data": {
      "text/plain": [
       "f_easy (generic function with 1 method)"
      ]
     },
     "execution_count": 10,
     "metadata": {},
     "output_type": "execute_result"
    }
   ],
   "source": [
    "function f_easy()\n",
    "    result = zeros(Int, Threads.nthreads())\n",
    "    Threads.@threads for i in 1:10^6\n",
    "        result[Threads.threadid()] += 1\n",
    "    end\n",
    "    return sum(result)\n",
    "end"
   ]
  },
  {
   "cell_type": "code",
   "execution_count": 20,
   "id": "d3f93949-7a0f-4ec5-a52e-698393315931",
   "metadata": {},
   "outputs": [
    {
     "data": {
      "text/plain": [
       "f_chunks (generic function with 2 methods)"
      ]
     },
     "execution_count": 20,
     "metadata": {},
     "output_type": "execute_result"
    }
   ],
   "source": [
    "function f_chunks()\n",
    "    chunks = Iterators.partition(1:1000_000, 1000_000 ÷ Threads.nthreads())\n",
    "    tasks = map(chunks) do chunk\n",
    "        Threads.@spawn begin\n",
    "            s = 0\n",
    "            for i in chunk\n",
    "                s += 1\n",
    "            end\n",
    "            s\n",
    "        end\n",
    "    end\n",
    "    chunk_sums = fetch.(tasks)\n",
    "    return sum(chunk_sums)\n",
    "end"
   ]
  },
  {
   "cell_type": "code",
   "execution_count": 11,
   "id": "d5359fcc",
   "metadata": {},
   "outputs": [
    {
     "data": {
      "text/plain": [
       "f_reentrant (generic function with 1 method)"
      ]
     },
     "execution_count": 11,
     "metadata": {},
     "output_type": "execute_result"
    }
   ],
   "source": [
    "\n",
    "function f_reentrant()\n",
    "    l = ReentrantLock()\n",
    "    x = 0\n",
    "    Threads.@threads for i in 1:10^6\n",
    "        Threads.lock(l) do\n",
    "            x += 1\n",
    "        end\n",
    "    end\n",
    "    return x\n",
    "end\n"
   ]
  },
  {
   "cell_type": "code",
   "execution_count": 21,
   "id": "6c969c44",
   "metadata": {},
   "outputs": [
    {
     "name": "stdout",
     "output_type": "stream",
     "text": [
      "\u001b[1m10×4 DataFrame\u001b[0m\n",
      "\u001b[1m Row \u001b[0m│\u001b[1m f           \u001b[0m\u001b[1m i     \u001b[0m\u001b[1m value   \u001b[0m\u001b[1m timems   \u001b[0m\n",
      "     │\u001b[90m String      \u001b[0m\u001b[90m Int64 \u001b[0m\u001b[90m Int64   \u001b[0m\u001b[90m Float64  \u001b[0m\n",
      "─────┼───────────────────────────────────────\n",
      "   1 │ f_bad            1   346812   85.8522\n",
      "   2 │ f_bad            2   821294  106.447\n",
      "   3 │ f_atomic         1  1000000   27.5742\n",
      "   4 │ f_atomic         2  1000000   17.9079\n",
      "   5 │ f_easy           1  1000000    6.4066\n",
      "   6 │ f_easy           2  1000000    4.2852\n",
      "   7 │ f_chunks         1  1000000  171.952\n",
      "   8 │ f_chunks         2  1000000    4.8388\n",
      "   9 │ f_reentrant      1  1000000  766.723\n",
      "  10 │ f_reentrant      2  1000000  878.867\n"
     ]
    }
   ],
   "source": [
    "using DataFrames\n",
    "stats = DataFrame()\n",
    "for f in [f_bad, f_atomic, f_easy, f_chunks, f_reentrant]\n",
    "    for i = 1:2\n",
    "        value, elapsedtime  = @timed f()\n",
    "        push!(stats, (f=string(f),i=i, value=value, timems=elapsedtime*1000))\n",
    "    end\n",
    "end\n",
    "println(stats)\n"
   ]
  },
  {
   "cell_type": "markdown",
   "id": "2846c599",
   "metadata": {},
   "source": [
    "<a class=\"anchor\" id=\"multiprocessing\"></a>\n",
    "### Multi-processing and distributed computing\n",
    "---- [Return to table of contents](#toc) ---\n"
   ]
  },
  {
   "cell_type": "code",
   "execution_count": 41,
   "id": "b9e7cf7d",
   "metadata": {},
   "outputs": [],
   "source": [
    "using Distributed"
   ]
  },
  {
   "cell_type": "markdown",
   "id": "caf3b10c",
   "metadata": {},
   "source": [
    "This code adds 4 workers (and avoids adding more)"
   ]
  },
  {
   "cell_type": "code",
   "execution_count": 42,
   "id": "e0626f59",
   "metadata": {},
   "outputs": [],
   "source": [
    "addprocs(max(0, 5-nprocs()));"
   ]
  },
  {
   "cell_type": "code",
   "execution_count": 43,
   "id": "99b678b4",
   "metadata": {
    "scrolled": true
   },
   "outputs": [
    {
     "data": {
      "text/plain": [
       "4-element Vector{Int64}:\n",
       " 2\n",
       " 3\n",
       " 4\n",
       " 5"
      ]
     },
     "execution_count": 43,
     "metadata": {},
     "output_type": "execute_result"
    }
   ],
   "source": [
    "workers()"
   ]
  },
  {
   "cell_type": "code",
   "execution_count": 44,
   "id": "f0ffdc87",
   "metadata": {},
   "outputs": [
    {
     "name": "stdout",
     "output_type": "stream",
     "text": [
      "  0.302316 seconds (20.00 k allocations: 763.397 MiB, 18.63% gc time)\n",
      "  0.320021 seconds (20.00 k allocations: 763.397 MiB, 12.46% gc time)\n"
     ]
    },
    {
     "data": {
      "text/plain": [
       "5000.1002833351995"
      ]
     },
     "execution_count": 44,
     "metadata": {},
     "output_type": "execute_result"
    }
   ],
   "source": [
    "function s_rand()\n",
    "    n = 10^4\n",
    "    x = 0.0\n",
    "    for i in 1:n\n",
    "        x += sum(rand(10^4))\n",
    "    end\n",
    "    x / n\n",
    "end\n",
    " \n",
    "@time s_rand()\n",
    "@time s_rand()\n"
   ]
  },
  {
   "cell_type": "code",
   "execution_count": 45,
   "id": "84ede908",
   "metadata": {},
   "outputs": [
    {
     "name": "stdout",
     "output_type": "stream",
     "text": [
      "  1.191995 seconds (465.08 k allocations: 31.229 MiB, 0.99% gc time, 35.13% compilation time)\n",
      "  0.126764 seconds (424 allocations: 24.047 KiB)\n"
     ]
    },
    {
     "data": {
      "text/plain": [
       "4999.982365060395"
      ]
     },
     "execution_count": 45,
     "metadata": {},
     "output_type": "execute_result"
    }
   ],
   "source": [
    "using Distributed\n",
    " \n",
    "function p_rand()\n",
    "    n = 10^4\n",
    "    x = @distributed (+) for i in 1:n\n",
    "        # the last line will be aggregated\n",
    "        sum(rand(10^4))\n",
    "    end\n",
    "    x / n\n",
    "end\n",
    "\n",
    "@time p_rand()\n",
    "@time p_rand()\n"
   ]
  },
  {
   "cell_type": "code",
   "execution_count": 46,
   "id": "5fa09611",
   "metadata": {},
   "outputs": [
    {
     "data": {
      "text/plain": [
       "1×4 adjoint(::Vector{Int64}) with eltype Int64:\n",
       " 2  3  4  5"
      ]
     },
     "execution_count": 46,
     "metadata": {},
     "output_type": "execute_result"
    }
   ],
   "source": [
    "workers()'"
   ]
  },
  {
   "cell_type": "code",
   "execution_count": 47,
   "id": "123009f7",
   "metadata": {},
   "outputs": [
    {
     "data": {
      "text/plain": [
       "7"
      ]
     },
     "execution_count": 47,
     "metadata": {},
     "output_type": "execute_result"
    }
   ],
   "source": [
    "fetch(@spawnat 3 4+3)"
   ]
  },
  {
   "cell_type": "code",
   "execution_count": 48,
   "id": "bf74de87",
   "metadata": {
    "scrolled": true
   },
   "outputs": [
    {
     "name": "stdout",
     "output_type": "stream",
     "text": [
      "I am on worker 1\n"
     ]
    },
    {
     "data": {
      "text/plain": [
       "0.26320790413310036"
      ]
     },
     "execution_count": 48,
     "metadata": {},
     "output_type": "execute_result"
    }
   ],
   "source": [
    "function myf() \n",
    "    println(\"I am on worker \", myid())\n",
    "    rand()\n",
    "end\n",
    "myf()"
   ]
  },
  {
   "cell_type": "code",
   "execution_count": 49,
   "id": "e4599a69",
   "metadata": {
    "scrolled": true
   },
   "outputs": [
    {
     "name": "stdout",
     "output_type": "stream",
     "text": [
      "RemoteException(4, CapturedException(UndefVarError(Symbol(\"#myf\")), Any[(deserialize_datatype at Serialization.jl:1399, 1), (handle_deserialize at Serialization.jl:867, 1), (deserialize at Serialization.jl:814, 1), (handle_deserialize at Serialization.jl:874, 1), (deserialize at Serialization.jl:814 [inlined], 1), (deserialize_global_from_main at clusterserialize.jl:160, 1), (#5 at clusterserialize.jl:72 [inlined], 1), (foreach at abstractarray.jl:3097, 1), (deserialize at clusterserialize.jl:72, 1), (handle_deserialize at Serialization.jl:960, 1), (deserialize at Serialization.jl:814, 1), (handle_deserialize at Serialization.jl:871, 1), (deserialize at Serialization.jl:814, 1), (handle_deserialize at Serialization.jl:874, 1), (deserialize at Serialization.jl:814 [inlined], 1), (deserialize_msg at messages.jl:87, 1), (#invokelatest#2 at essentials.jl:892 [inlined], 1), (invokelatest at essentials.jl:889 [inlined], 1), (message_handler_loop at process_messages.jl:176, 1), (process_tcp_streams at process_messages.jl:133, 1), (#103 at process_messages.jl:121, 1)]))\n"
     ]
    }
   ],
   "source": [
    "a = nothing\n",
    "try \n",
    "    fetch(@spawnat 4 myf())\n",
    "catch e\n",
    "    println(e)\n",
    "end"
   ]
  },
  {
   "cell_type": "code",
   "execution_count": 50,
   "id": "b7658d33",
   "metadata": {},
   "outputs": [
    {
     "name": "stdout",
     "output_type": "stream",
     "text": [
      "      From worker 4:\tI am on worker 4\n"
     ]
    },
    {
     "data": {
      "text/plain": [
       "0.43466090764226784"
      ]
     },
     "execution_count": 50,
     "metadata": {},
     "output_type": "execute_result"
    }
   ],
   "source": [
    "@everywhere function myf() \n",
    "    println(\"I am on worker \", myid())\n",
    "    rand()\n",
    "end\n",
    "fetch(@spawnat 4 myf())"
   ]
  },
  {
   "cell_type": "markdown",
   "id": "5d208b0e",
   "metadata": {},
   "source": [
    "#### A typical pattern for setting an intial state across workers"
   ]
  },
  {
   "cell_type": "code",
   "execution_count": 54,
   "id": "f281840e",
   "metadata": {},
   "outputs": [
    {
     "name": "stdout",
     "output_type": "stream",
     "text": [
      "      From worker 2:\t\u001b[32m\u001b[1m  Activating\u001b[22m\u001b[39m project at `C:\\AAABIBLIOTEKA\\EuropeanCommission\\2024_Julica_EC_Distributed_GPU\\1_ParallelDistributed`\n",
      "      From worker 5:\t\u001b[32m\u001b[1m  Activating\u001b[22m\u001b[39m project at `C:\\AAABIBLIOTEKA\\EuropeanCommission\\2024_Julica_EC_Distributed_GPU\\1_ParallelDistributed`\n",
      "      From worker 4:\t\u001b[32m\u001b[1m  Activating\u001b[22m\u001b[39m project at `C:\\AAABIBLIOTEKA\\EuropeanCommission\\2024_Julica_EC_Distributed_GPU\\1_ParallelDistributed`\n",
      "      From worker 3:\t\u001b[32m\u001b[1m  Activating\u001b[22m\u001b[39m project at `C:\\AAABIBLIOTEKA\\EuropeanCommission\\2024_Julica_EC_Distributed_GPU\\1_ParallelDistributed`\n"
     ]
    },
    {
     "name": "stderr",
     "output_type": "stream",
     "text": [
      "\u001b[32m\u001b[1m  Activating\u001b[22m\u001b[39m project at `C:\\AAABIBLIOTEKA\\EuropeanCommission\\2024_Julica_EC_Distributed_GPU\\1_ParallelDistributed`\n"
     ]
    }
   ],
   "source": [
    "using Distributed\n",
    "@everywhere using Pkg\n",
    "# This assumes that the package is in the same folder as the running code\n",
    "@everywhere Pkg.activate(\".\")\n",
    "@everywhere using Distributed, Random, DataFrames\n",
    "\n",
    "@everywhere function calc(x, y)\n",
    "    2x + y\n",
    "end\n",
    "\n",
    "@everywhere function init_worker()    \n",
    "   Random.seed!(myid())\n",
    "    # reading initial data from files or other actions\n",
    "end\n",
    "\n",
    "@sync for wid in workers()\n",
    "    @async fetch(@spawnat wid init_worker())\n",
    "end\n"
   ]
  },
  {
   "cell_type": "markdown",
   "id": "10189162",
   "metadata": {},
   "source": [
    "Typically results are collected to a `DataFrame`"
   ]
  },
  {
   "cell_type": "code",
   "execution_count": 55,
   "id": "c636c081",
   "metadata": {},
   "outputs": [
    {
     "data": {
      "text/html": [
       "<div><div style = \"float: left;\"><span>12×6 DataFrame</span></div><div style = \"clear: both;\"></div></div><div class = \"data-frame\" style = \"overflow-x: scroll;\"><table class = \"data-frame\" style = \"margin-bottom: 6px;\"><thead><tr class = \"header\"><th class = \"rowNumber\" style = \"font-weight: bold; text-align: right;\">Row</th><th style = \"text-align: left;\">i</th><th style = \"text-align: left;\">j</th><th style = \"text-align: left;\">a</th><th style = \"text-align: left;\">b</th><th style = \"text-align: left;\">c</th><th style = \"text-align: left;\">procid</th></tr><tr class = \"subheader headerLastRow\"><th class = \"rowNumber\" style = \"font-weight: bold; text-align: right;\"></th><th title = \"Int64\" style = \"text-align: left;\">Int64</th><th title = \"Int64\" style = \"text-align: left;\">Int64</th><th title = \"Int64\" style = \"text-align: left;\">Int64</th><th title = \"Int64\" style = \"text-align: left;\">Int64</th><th title = \"Int64\" style = \"text-align: left;\">Int64</th><th title = \"Int64\" style = \"text-align: left;\">Int64</th></tr></thead><tbody><tr><td class = \"rowNumber\" style = \"font-weight: bold; text-align: right;\">1</td><td style = \"text-align: right;\">1</td><td style = \"text-align: right;\">1</td><td style = \"text-align: right;\">467</td><td style = \"text-align: right;\">6000</td><td style = \"text-align: right;\">6934</td><td style = \"text-align: right;\">2</td></tr><tr><td class = \"rowNumber\" style = \"font-weight: bold; text-align: right;\">2</td><td style = \"text-align: right;\">2</td><td style = \"text-align: right;\">1</td><td style = \"text-align: right;\">14</td><td style = \"text-align: right;\">2000</td><td style = \"text-align: right;\">2028</td><td style = \"text-align: right;\">2</td></tr><tr><td class = \"rowNumber\" style = \"font-weight: bold; text-align: right;\">3</td><td style = \"text-align: right;\">3</td><td style = \"text-align: right;\">1</td><td style = \"text-align: right;\">395</td><td style = \"text-align: right;\">9000</td><td style = \"text-align: right;\">9790</td><td style = \"text-align: right;\">2</td></tr><tr><td class = \"rowNumber\" style = \"font-weight: bold; text-align: right;\">4</td><td style = \"text-align: right;\">4</td><td style = \"text-align: right;\">1</td><td style = \"text-align: right;\">421</td><td style = \"text-align: right;\">9000</td><td style = \"text-align: right;\">9842</td><td style = \"text-align: right;\">3</td></tr><tr><td class = \"rowNumber\" style = \"font-weight: bold; text-align: right;\">5</td><td style = \"text-align: right;\">1</td><td style = \"text-align: right;\">2</td><td style = \"text-align: right;\">265</td><td style = \"text-align: right;\">8000</td><td style = \"text-align: right;\">8530</td><td style = \"text-align: right;\">3</td></tr><tr><td class = \"rowNumber\" style = \"font-weight: bold; text-align: right;\">6</td><td style = \"text-align: right;\">2</td><td style = \"text-align: right;\">2</td><td style = \"text-align: right;\">207</td><td style = \"text-align: right;\">3000</td><td style = \"text-align: right;\">3414</td><td style = \"text-align: right;\">3</td></tr><tr><td class = \"rowNumber\" style = \"font-weight: bold; text-align: right;\">7</td><td style = \"text-align: right;\">3</td><td style = \"text-align: right;\">2</td><td style = \"text-align: right;\">30</td><td style = \"text-align: right;\">7000</td><td style = \"text-align: right;\">7060</td><td style = \"text-align: right;\">4</td></tr><tr><td class = \"rowNumber\" style = \"font-weight: bold; text-align: right;\">8</td><td style = \"text-align: right;\">4</td><td style = \"text-align: right;\">2</td><td style = \"text-align: right;\">24</td><td style = \"text-align: right;\">6000</td><td style = \"text-align: right;\">6048</td><td style = \"text-align: right;\">4</td></tr><tr><td class = \"rowNumber\" style = \"font-weight: bold; text-align: right;\">9</td><td style = \"text-align: right;\">1</td><td style = \"text-align: right;\">3</td><td style = \"text-align: right;\">181</td><td style = \"text-align: right;\">3000</td><td style = \"text-align: right;\">3362</td><td style = \"text-align: right;\">4</td></tr><tr><td class = \"rowNumber\" style = \"font-weight: bold; text-align: right;\">10</td><td style = \"text-align: right;\">2</td><td style = \"text-align: right;\">3</td><td style = \"text-align: right;\">82</td><td style = \"text-align: right;\">2000</td><td style = \"text-align: right;\">2164</td><td style = \"text-align: right;\">5</td></tr><tr><td class = \"rowNumber\" style = \"font-weight: bold; text-align: right;\">11</td><td style = \"text-align: right;\">3</td><td style = \"text-align: right;\">3</td><td style = \"text-align: right;\">324</td><td style = \"text-align: right;\">3000</td><td style = \"text-align: right;\">3648</td><td style = \"text-align: right;\">5</td></tr><tr><td class = \"rowNumber\" style = \"font-weight: bold; text-align: right;\">12</td><td style = \"text-align: right;\">4</td><td style = \"text-align: right;\">3</td><td style = \"text-align: right;\">484</td><td style = \"text-align: right;\">8000</td><td style = \"text-align: right;\">8968</td><td style = \"text-align: right;\">5</td></tr></tbody></table></div>"
      ],
      "text/latex": [
       "\\begin{tabular}{r|cccccc}\n",
       "\t& i & j & a & b & c & procid\\\\\n",
       "\t\\hline\n",
       "\t& Int64 & Int64 & Int64 & Int64 & Int64 & Int64\\\\\n",
       "\t\\hline\n",
       "\t1 & 1 & 1 & 467 & 6000 & 6934 & 2 \\\\\n",
       "\t2 & 2 & 1 & 14 & 2000 & 2028 & 2 \\\\\n",
       "\t3 & 3 & 1 & 395 & 9000 & 9790 & 2 \\\\\n",
       "\t4 & 4 & 1 & 421 & 9000 & 9842 & 3 \\\\\n",
       "\t5 & 1 & 2 & 265 & 8000 & 8530 & 3 \\\\\n",
       "\t6 & 2 & 2 & 207 & 3000 & 3414 & 3 \\\\\n",
       "\t7 & 3 & 2 & 30 & 7000 & 7060 & 4 \\\\\n",
       "\t8 & 4 & 2 & 24 & 6000 & 6048 & 4 \\\\\n",
       "\t9 & 1 & 3 & 181 & 3000 & 3362 & 4 \\\\\n",
       "\t10 & 2 & 3 & 82 & 2000 & 2164 & 5 \\\\\n",
       "\t11 & 3 & 3 & 324 & 3000 & 3648 & 5 \\\\\n",
       "\t12 & 4 & 3 & 484 & 8000 & 8968 & 5 \\\\\n",
       "\\end{tabular}\n"
      ],
      "text/plain": [
       "\u001b[1m12×6 DataFrame\u001b[0m\n",
       "\u001b[1m Row \u001b[0m│\u001b[1m i     \u001b[0m\u001b[1m j     \u001b[0m\u001b[1m a     \u001b[0m\u001b[1m b     \u001b[0m\u001b[1m c     \u001b[0m\u001b[1m procid \u001b[0m\n",
       "     │\u001b[90m Int64 \u001b[0m\u001b[90m Int64 \u001b[0m\u001b[90m Int64 \u001b[0m\u001b[90m Int64 \u001b[0m\u001b[90m Int64 \u001b[0m\u001b[90m Int64  \u001b[0m\n",
       "─────┼───────────────────────────────────────────\n",
       "   1 │     1      1    467   6000   6934       2\n",
       "   2 │     2      1     14   2000   2028       2\n",
       "   3 │     3      1    395   9000   9790       2\n",
       "   4 │     4      1    421   9000   9842       3\n",
       "   5 │     1      2    265   8000   8530       3\n",
       "   6 │     2      2    207   3000   3414       3\n",
       "   7 │     3      2     30   7000   7060       4\n",
       "   8 │     4      2     24   6000   6048       4\n",
       "   9 │     1      3    181   3000   3362       4\n",
       "  10 │     2      3     82   2000   2164       5\n",
       "  11 │     3      3    324   3000   3648       5\n",
       "  12 │     4      3    484   8000   8968       5"
      ]
     },
     "execution_count": 55,
     "metadata": {},
     "output_type": "execute_result"
    }
   ],
   "source": [
    "data = @distributed (append!) for (i, j) = vec(collect(Iterators.product(1:4, 1:3)))\n",
    "    a = rand(1:499)\n",
    "    b = rand(1:9)*1000\n",
    "    c = calc(a, b)\n",
    "    DataFrame(;i,j,a,b,c,procid = myid())\n",
    "end"
   ]
  },
  {
   "cell_type": "code",
   "execution_count": 74,
   "id": "f6f2b5f7-6521-47e5-8ed7-1f0226d0c583",
   "metadata": {},
   "outputs": [
    {
     "data": {
      "text/html": [
       "<div><div style = \"float: left;\"><span>10×3 DataFrame</span></div><div style = \"clear: both;\"></div></div><div class = \"data-frame\" style = \"overflow-x: scroll;\"><table class = \"data-frame\" style = \"margin-bottom: 6px;\"><thead><tr class = \"header\"><th class = \"rowNumber\" style = \"font-weight: bold; text-align: right;\">Row</th><th style = \"text-align: left;\">i</th><th style = \"text-align: left;\">procid</th><th style = \"text-align: left;\">c</th></tr><tr class = \"subheader headerLastRow\"><th class = \"rowNumber\" style = \"font-weight: bold; text-align: right;\"></th><th title = \"Int64\" style = \"text-align: left;\">Int64</th><th title = \"Int64\" style = \"text-align: left;\">Int64</th><th title = \"Int64\" style = \"text-align: left;\">Int64</th></tr></thead><tbody><tr><td class = \"rowNumber\" style = \"font-weight: bold; text-align: right;\">1</td><td style = \"text-align: right;\">1</td><td style = \"text-align: right;\">4</td><td style = \"text-align: right;\">3</td></tr><tr><td class = \"rowNumber\" style = \"font-weight: bold; text-align: right;\">2</td><td style = \"text-align: right;\">2</td><td style = \"text-align: right;\">3</td><td style = \"text-align: right;\">6</td></tr><tr><td class = \"rowNumber\" style = \"font-weight: bold; text-align: right;\">3</td><td style = \"text-align: right;\">3</td><td style = \"text-align: right;\">5</td><td style = \"text-align: right;\">9</td></tr><tr><td class = \"rowNumber\" style = \"font-weight: bold; text-align: right;\">4</td><td style = \"text-align: right;\">4</td><td style = \"text-align: right;\">2</td><td style = \"text-align: right;\">12</td></tr><tr><td class = \"rowNumber\" style = \"font-weight: bold; text-align: right;\">5</td><td style = \"text-align: right;\">5</td><td style = \"text-align: right;\">5</td><td style = \"text-align: right;\">15</td></tr><tr><td class = \"rowNumber\" style = \"font-weight: bold; text-align: right;\">6</td><td style = \"text-align: right;\">6</td><td style = \"text-align: right;\">4</td><td style = \"text-align: right;\">18</td></tr><tr><td class = \"rowNumber\" style = \"font-weight: bold; text-align: right;\">7</td><td style = \"text-align: right;\">7</td><td style = \"text-align: right;\">5</td><td style = \"text-align: right;\">21</td></tr><tr><td class = \"rowNumber\" style = \"font-weight: bold; text-align: right;\">8</td><td style = \"text-align: right;\">8</td><td style = \"text-align: right;\">5</td><td style = \"text-align: right;\">24</td></tr><tr><td class = \"rowNumber\" style = \"font-weight: bold; text-align: right;\">9</td><td style = \"text-align: right;\">9</td><td style = \"text-align: right;\">4</td><td style = \"text-align: right;\">27</td></tr><tr><td class = \"rowNumber\" style = \"font-weight: bold; text-align: right;\">10</td><td style = \"text-align: right;\">10</td><td style = \"text-align: right;\">5</td><td style = \"text-align: right;\">30</td></tr></tbody></table></div>"
      ],
      "text/latex": [
       "\\begin{tabular}{r|ccc}\n",
       "\t& i & procid & c\\\\\n",
       "\t\\hline\n",
       "\t& Int64 & Int64 & Int64\\\\\n",
       "\t\\hline\n",
       "\t1 & 1 & 4 & 3 \\\\\n",
       "\t2 & 2 & 3 & 6 \\\\\n",
       "\t3 & 3 & 5 & 9 \\\\\n",
       "\t4 & 4 & 2 & 12 \\\\\n",
       "\t5 & 5 & 5 & 15 \\\\\n",
       "\t6 & 6 & 4 & 18 \\\\\n",
       "\t7 & 7 & 5 & 21 \\\\\n",
       "\t8 & 8 & 5 & 24 \\\\\n",
       "\t9 & 9 & 4 & 27 \\\\\n",
       "\t10 & 10 & 5 & 30 \\\\\n",
       "\\end{tabular}\n"
      ],
      "text/plain": [
       "\u001b[1m10×3 DataFrame\u001b[0m\n",
       "\u001b[1m Row \u001b[0m│\u001b[1m i     \u001b[0m\u001b[1m procid \u001b[0m\u001b[1m c     \u001b[0m\n",
       "     │\u001b[90m Int64 \u001b[0m\u001b[90m Int64  \u001b[0m\u001b[90m Int64 \u001b[0m\n",
       "─────┼──────────────────────\n",
       "   1 │     1       4      3\n",
       "   2 │     2       3      6\n",
       "   3 │     3       5      9\n",
       "   4 │     4       2     12\n",
       "   5 │     5       5     15\n",
       "   6 │     6       4     18\n",
       "   7 │     7       5     21\n",
       "   8 │     8       5     24\n",
       "   9 │     9       4     27\n",
       "  10 │    10       5     30"
      ]
     },
     "execution_count": 74,
     "metadata": {},
     "output_type": "execute_result"
    }
   ],
   "source": [
    "pmap(i-> (;i, procid=myid(), c= calc(i,i) ), 1:10) |> DataFrame"
   ]
  }
 ],
 "metadata": {
  "kernelspec": {
   "display_name": "Julia 1.10.3",
   "language": "julia",
   "name": "julia-1.10"
  },
  "language_info": {
   "file_extension": ".jl",
   "mimetype": "application/julia",
   "name": "julia",
   "version": "1.10.3"
  }
 },
 "nbformat": 4,
 "nbformat_minor": 5
}
